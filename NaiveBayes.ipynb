{
 "cells": [
  {
   "cell_type": "markdown",
   "metadata": {},
   "source": [
    "# Email Classifier"
   ]
  },
  {
   "cell_type": "code",
   "execution_count": 78,
   "metadata": {},
   "outputs": [
    {
     "name": "stderr",
     "output_type": "stream",
     "text": [
      "/home/aadhunik/anaconda3/lib/python3.7/site-packages/pandas/core/frame.py:6211: FutureWarning: Sorting because non-concatenation axis is not aligned. A future version\n",
      "of pandas will change to not sort by default.\n",
      "\n",
      "To accept the future behavior, pass 'sort=False'.\n",
      "\n",
      "To retain the current behavior and silence the warning, pass 'sort=True'.\n",
      "\n",
      "  sort=sort)\n"
     ]
    }
   ],
   "source": [
    "import os\n",
    "import io\n",
    "import numpy\n",
    "from pandas import DataFrame\n",
    "from sklearn.feature_extraction.text import CountVectorizer\n",
    "from sklearn.naive_bayes import MultinomialNB\n",
    "from sklearn.model_selection import train_test_split,cross_val_score\n",
    "\n",
    "def readFiles(path):\n",
    "    for root, dirnames, filenames in os.walk(path):\n",
    "        \n",
    "        for filename in filenames:\n",
    "            path = os.path.join(root, filename)\n",
    "            \n",
    "            inBody = False\n",
    "            lines = []\n",
    "            f = io.open(path, 'r', encoding='latin1')\n",
    "            for line in f:\n",
    "                if inBody:\n",
    "                    lines.append(line)\n",
    "                elif line == '\\n':\n",
    "                    inBody = True\n",
    "            f.close()\n",
    "            message = '\\n'.join(lines)\n",
    "            yield path, message\n",
    "\n",
    "\n",
    "def dataFrameFromDirectory(path, classification):\n",
    "    rows = []\n",
    "    index = []\n",
    "    for filename, message in readFiles(path):\n",
    "        rows.append({'message': message, 'class': classification})\n",
    "        index.append(filename)\n",
    "\n",
    "    return DataFrame(rows, index=index)\n",
    "\n",
    "data = DataFrame({'message': [], 'class': []})\n",
    "\n",
    "data = data.append(dataFrameFromDirectory('emails/spam', 'spam'))\n",
    "data = data.append(dataFrameFromDirectory('emails/ham', 'NOTspam'))\n"
   ]
  },
  {
   "cell_type": "markdown",
   "metadata": {},
   "source": [
    "Let's have a look at that DataFrame:"
   ]
  },
  {
   "cell_type": "code",
   "execution_count": 5,
   "metadata": {
    "scrolled": true
   },
   "outputs": [
    {
     "data": {
      "text/html": [
       "<div>\n",
       "<style scoped>\n",
       "    .dataframe tbody tr th:only-of-type {\n",
       "        vertical-align: middle;\n",
       "    }\n",
       "\n",
       "    .dataframe tbody tr th {\n",
       "        vertical-align: top;\n",
       "    }\n",
       "\n",
       "    .dataframe thead th {\n",
       "        text-align: right;\n",
       "    }\n",
       "</style>\n",
       "<table border=\"1\" class=\"dataframe\">\n",
       "  <thead>\n",
       "    <tr style=\"text-align: right;\">\n",
       "      <th></th>\n",
       "      <th>class</th>\n",
       "      <th>message</th>\n",
       "    </tr>\n",
       "  </thead>\n",
       "  <tbody>\n",
       "    <tr>\n",
       "      <th>emails/spam/00065.6203de135559b319326445aafd68dbca</th>\n",
       "      <td>spam</td>\n",
       "      <td>\\n\\nPUBLIC ANNOUNCEMENT:\\n\\n\\n\\nThe new domain...</td>\n",
       "    </tr>\n",
       "    <tr>\n",
       "      <th>emails/spam/00232.2d55046b9cf0b192ad6332545ef2a334</th>\n",
       "      <td>spam</td>\n",
       "      <td>This is a multi-part message in MIME format.\\n...</td>\n",
       "    </tr>\n",
       "    <tr>\n",
       "      <th>emails/spam/00333.4bb36a535cb3d738f30f985f1e10a786</th>\n",
       "      <td>spam</td>\n",
       "      <td>------000000000000000000000\\n\\nContent-Type: t...</td>\n",
       "    </tr>\n",
       "    <tr>\n",
       "      <th>emails/spam/00217.43b4ef3d9c56cf42be9c37b546a19e78</th>\n",
       "      <td>spam</td>\n",
       "      <td>&lt;html&gt;&lt;xbody&gt;\\n\\n&lt;hr width = \"100%\"&gt;\\n\\n&lt;cente...</td>\n",
       "    </tr>\n",
       "    <tr>\n",
       "      <th>emails/spam/00220.cf7d03e161582887dc589229e2896e26</th>\n",
       "      <td>spam</td>\n",
       "      <td>ATTN:\\n\\n\\n\\nI am Bulawa Mulete JR. the son of...</td>\n",
       "    </tr>\n",
       "  </tbody>\n",
       "</table>\n",
       "</div>"
      ],
      "text/plain": [
       "                                                   class  \\\n",
       "emails/spam/00065.6203de135559b319326445aafd68dbca  spam   \n",
       "emails/spam/00232.2d55046b9cf0b192ad6332545ef2a334  spam   \n",
       "emails/spam/00333.4bb36a535cb3d738f30f985f1e10a786  spam   \n",
       "emails/spam/00217.43b4ef3d9c56cf42be9c37b546a19e78  spam   \n",
       "emails/spam/00220.cf7d03e161582887dc589229e2896e26  spam   \n",
       "\n",
       "                                                                                              message  \n",
       "emails/spam/00065.6203de135559b319326445aafd68dbca  \\n\\nPUBLIC ANNOUNCEMENT:\\n\\n\\n\\nThe new domain...  \n",
       "emails/spam/00232.2d55046b9cf0b192ad6332545ef2a334  This is a multi-part message in MIME format.\\n...  \n",
       "emails/spam/00333.4bb36a535cb3d738f30f985f1e10a786  ------000000000000000000000\\n\\nContent-Type: t...  \n",
       "emails/spam/00217.43b4ef3d9c56cf42be9c37b546a19e78  <html><xbody>\\n\\n<hr width = \"100%\">\\n\\n<cente...  \n",
       "emails/spam/00220.cf7d03e161582887dc589229e2896e26  ATTN:\\n\\n\\n\\nI am Bulawa Mulete JR. the son of...  "
      ]
     },
     "execution_count": 5,
     "metadata": {},
     "output_type": "execute_result"
    }
   ],
   "source": [
    "data.head()"
   ]
  },
  {
   "cell_type": "code",
   "execution_count": 7,
   "metadata": {},
   "outputs": [],
   "source": [
    "# X_train,y_train,X_test,y_test=train_test_split(data['message'].values,data['class'].values,test_size=0.25)"
   ]
  },
  {
   "cell_type": "code",
   "execution_count": 15,
   "metadata": {},
   "outputs": [],
   "source": [
    "# X_train,y_train,X_test,y_test=train_test_split(counts,data['class'].values,test_size=0.25)"
   ]
  },
  {
   "cell_type": "code",
   "execution_count": 20,
   "metadata": {},
   "outputs": [
    {
     "data": {
      "text/plain": [
       "<750x62964 sparse matrix of type '<class 'numpy.int64'>'\n",
       "\twith 104055 stored elements in Compressed Sparse Row format>"
      ]
     },
     "execution_count": 20,
     "metadata": {},
     "output_type": "execute_result"
    }
   ],
   "source": [
    "# y_train"
   ]
  },
  {
   "cell_type": "code",
   "execution_count": 84,
   "metadata": {},
   "outputs": [
    {
     "data": {
      "text/plain": [
       "0.9583333333333333"
      ]
     },
     "execution_count": 84,
     "metadata": {},
     "output_type": "execute_result"
    }
   ],
   "source": [
    "vectorizer = CountVectorizer()\n",
    "counts = vectorizer.fit_transform(data['message'].values)\n",
    "X_train,X_test,y_train,y_test=train_test_split(counts,data['class'].values,test_size=0.25)\n",
    "classifier = MultinomialNB()\n",
    "#targets = data['class'].values\n",
    "classifier.fit(X_train,y_train)\n",
    "accuracies=cross_val_score(estimator=classifier,X=counts,y=data['class'].values,cv=10).mean()\n",
    "accuracies"
   ]
  },
  {
   "cell_type": "code",
   "execution_count": null,
   "metadata": {},
   "outputs": [],
   "source": [
    "classifier.fit(counts,data['class'].valu)"
   ]
  },
  {
   "cell_type": "code",
   "execution_count": 86,
   "metadata": {},
   "outputs": [
    {
     "data": {
      "text/plain": [
       "array(['NOTspam', 'NOTspam'], dtype='<U7')"
      ]
     },
     "execution_count": 86,
     "metadata": {},
     "output_type": "execute_result"
    }
   ],
   "source": [
    "examples = [' signup free www.clickbait.com!!!', \"Kya Baat hai  HAI?\"]\n",
    "example_counts = vectorizer.transform(examples)\n",
    "predictions = classifier.predict(example_counts)\n",
    "predictions"
   ]
  }
 ],
 "metadata": {
  "kernelspec": {
   "display_name": "Python 3",
   "language": "python",
   "name": "python3"
  },
  "language_info": {
   "codemirror_mode": {
    "name": "ipython",
    "version": 3
   },
   "file_extension": ".py",
   "mimetype": "text/x-python",
   "name": "python",
   "nbconvert_exporter": "python",
   "pygments_lexer": "ipython3",
   "version": "3.7.1"
  }
 },
 "nbformat": 4,
 "nbformat_minor": 1
}
